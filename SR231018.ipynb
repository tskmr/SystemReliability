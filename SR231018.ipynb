{
  "nbformat": 4,
  "nbformat_minor": 0,
  "metadata": {
    "colab": {
      "provenance": [],
      "authorship_tag": "ABX9TyO4i0BGeaJLFEn10eEJodUS",
      "include_colab_link": true
    },
    "kernelspec": {
      "name": "ir",
      "display_name": "R"
    },
    "language_info": {
      "name": "R"
    }
  },
  "cells": [
    {
      "cell_type": "markdown",
      "metadata": {
        "id": "view-in-github",
        "colab_type": "text"
      },
      "source": [
        "<a href=\"https://colab.research.google.com/github/tskmr/SystemReliability/blob/main/SR231018.ipynb\" target=\"_parent\"><img src=\"https://colab.research.google.com/assets/colab-badge.svg\" alt=\"Open In Colab\"/></a>"
      ]
    },
    {
      "cell_type": "code",
      "execution_count": 1,
      "metadata": {
        "id": "L2EJcq5KiTBT"
      },
      "outputs": [],
      "source": [
        "R = function(t, lambda, alpha){\n",
        "    exp(-(lambda*t)^alpha)\n",
        "}"
      ]
    },
    {
      "cell_type": "code",
      "source": [
        "lambda = 1.15*10^(-4)\n",
        "alpha = 2.25\n"
      ],
      "metadata": {
        "id": "-TgGfCDGiqFn"
      },
      "execution_count": 2,
      "outputs": []
    },
    {
      "cell_type": "code",
      "source": [
        "R(t=4380, lambda, alpha)"
      ],
      "metadata": {
        "colab": {
          "base_uri": "https://localhost:8080/",
          "height": 34
        },
        "id": "hlNYZM6vixUF",
        "outputId": "5940c1e9-0691-4bbf-8749-b7028350a018"
      },
      "execution_count": 3,
      "outputs": [
        {
          "output_type": "display_data",
          "data": {
            "text/html": [
              "0.807557891915148"
            ],
            "text/markdown": "0.807557891915148",
            "text/latex": "0.807557891915148",
            "text/plain": [
              "[1] 0.8075579"
            ]
          },
          "metadata": {}
        }
      ]
    },
    {
      "cell_type": "code",
      "source": [
        "MTTF = 1/lambda *gamma(1/alpha+1)\n",
        "MTTF"
      ],
      "metadata": {
        "colab": {
          "base_uri": "https://localhost:8080/",
          "height": 34
        },
        "id": "-cjP0trXi465",
        "outputId": "58d05b4e-87b0-47ba-e909-e90b97395459"
      },
      "execution_count": 4,
      "outputs": [
        {
          "output_type": "display_data",
          "data": {
            "text/html": [
              "7702.00395268376"
            ],
            "text/markdown": "7702.00395268376",
            "text/latex": "7702.00395268376",
            "text/plain": [
              "[1] 7702.004"
            ]
          },
          "metadata": {}
        }
      ]
    },
    {
      "cell_type": "code",
      "source": [
        "gamma(1.44)/1.15*10^4"
      ],
      "metadata": {
        "colab": {
          "base_uri": "https://localhost:8080/",
          "height": 34
        },
        "id": "bZGKZFVXjjD3",
        "outputId": "14dfa906-57a3-4a26-9c63-66aafa9c0ebc"
      },
      "execution_count": 7,
      "outputs": [
        {
          "output_type": "display_data",
          "data": {
            "text/html": [
              "7702.65272563558"
            ],
            "text/markdown": "7702.65272563558",
            "text/latex": "7702.65272563558",
            "text/plain": [
              "[1] 7702.653"
            ]
          },
          "metadata": {}
        }
      ]
    },
    {
      "cell_type": "code",
      "source": [
        "1/lambda * (log(2))^(1/alpha)"
      ],
      "metadata": {
        "colab": {
          "base_uri": "https://localhost:8080/",
          "height": 34
        },
        "id": "SSnsW0vajswo",
        "outputId": "66450dba-3be2-4887-aae3-83652c5ace41"
      },
      "execution_count": 8,
      "outputs": [
        {
          "output_type": "display_data",
          "data": {
            "text/html": [
              "7388.52794253016"
            ],
            "text/markdown": "7388.52794253016",
            "text/latex": "7388.52794253016",
            "text/plain": [
              "[1] 7388.528"
            ]
          },
          "metadata": {}
        }
      ]
    },
    {
      "cell_type": "code",
      "source": [
        "t1=t2=4380\n",
        "R(t1+t2, lambda, alpha)/R(t1, lambda, alpha)"
      ],
      "metadata": {
        "colab": {
          "base_uri": "https://localhost:8080/",
          "height": 34
        },
        "id": "QGUDg_FtkiW0",
        "outputId": "923fe245-4e01-46b9-c0bf-54f88399ed19"
      },
      "execution_count": 10,
      "outputs": [
        {
          "output_type": "display_data",
          "data": {
            "text/html": [
              "0.447989036040496"
            ],
            "text/markdown": "0.447989036040496",
            "text/latex": "0.447989036040496",
            "text/plain": [
              "[1] 0.447989"
            ]
          },
          "metadata": {}
        }
      ]
    },
    {
      "cell_type": "code",
      "source": [
        "MRL = function(t, lambda, alpha){\n",
        "  1/R(t, lambda, alpha) * integrate(function(x) {R(x, lambda, alpha)}, lower=t, upper=Inf)$value\n",
        "}"
      ],
      "metadata": {
        "id": "BR4G5AU1mC_c"
      },
      "execution_count": 21,
      "outputs": []
    },
    {
      "cell_type": "code",
      "source": [
        "MRL(4380, lambda, alpha)"
      ],
      "metadata": {
        "colab": {
          "base_uri": "https://localhost:8080/",
          "height": 34
        },
        "id": "VYJrn39On55c",
        "outputId": "b9b7ebde-49ea-42d2-9a09-294308ce9e58"
      },
      "execution_count": 22,
      "outputs": [
        {
          "output_type": "display_data",
          "data": {
            "text/html": [
              "4448.91009648656"
            ],
            "text/markdown": "4448.91009648656",
            "text/latex": "4448.91009648656",
            "text/plain": [
              "[1] 4448.91"
            ]
          },
          "metadata": {}
        }
      ]
    },
    {
      "cell_type": "code",
      "source": [
        "integrate(function(x) {R(x, lambda, alpha)}, lower=0, upper=Inf)$value"
      ],
      "metadata": {
        "colab": {
          "base_uri": "https://localhost:8080/",
          "height": 34
        },
        "id": "9geNfUhvn-FD",
        "outputId": "848cc991-bf53-492b-fcad-98e824fc75bf"
      },
      "execution_count": 23,
      "outputs": [
        {
          "output_type": "display_data",
          "data": {
            "text/html": [
              "7702.00395621185"
            ],
            "text/markdown": "7702.00395621185",
            "text/latex": "7702.00395621185",
            "text/plain": [
              "[1] 7702.004"
            ]
          },
          "metadata": {}
        }
      ]
    },
    {
      "cell_type": "code",
      "source": [],
      "metadata": {
        "id": "byCr3h1epBuU"
      },
      "execution_count": null,
      "outputs": []
    }
  ]
}