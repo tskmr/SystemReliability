{
  "nbformat": 4,
  "nbformat_minor": 0,
  "metadata": {
    "colab": {
      "provenance": [],
      "authorship_tag": "ABX9TyMNnSxZ3pGwcv6Vf5BDw0ya",
      "include_colab_link": true
    },
    "kernelspec": {
      "name": "ir",
      "display_name": "R"
    },
    "language_info": {
      "name": "R"
    }
  },
  "cells": [
    {
      "cell_type": "markdown",
      "metadata": {
        "id": "view-in-github",
        "colab_type": "text"
      },
      "source": [
        "<a href=\"https://colab.research.google.com/github/tskmr/SystemReliability/blob/main/SR231018.ipynb\" target=\"_parent\"><img src=\"https://colab.research.google.com/assets/colab-badge.svg\" alt=\"Open In Colab\"/></a>"
      ]
    },
    {
      "cell_type": "markdown",
      "source": [
        "## 問4\n",
        "可変チョークバルブの故障までの時間 $T$ は，形状パラメータ $\\alpha = 2.25$，スケールパラメータ $\\lambda = 1.15\\cdot 10^{-4} \\text{hours}^{-1}$ のワイブル分布であると仮定する．\n",
        "このとき，以下を求めよ．\n"
      ],
      "metadata": {
        "id": "luLruNm5ZgIi"
      }
    },
    {
      "cell_type": "markdown",
      "source": [
        "### 1\n",
        "このバルブが確率的に6ヶ月（$t = 4380$時間）の連続運転に耐えられる確率\n"
      ],
      "metadata": {
        "id": "jPXN9ttFaK5h"
      }
    },
    {
      "cell_type": "code",
      "execution_count": 1,
      "metadata": {
        "id": "L2EJcq5KiTBT"
      },
      "outputs": [],
      "source": [
        "R = function(t, lambda, alpha){\n",
        "    exp(-(lambda*t)^alpha)\n",
        "}"
      ]
    },
    {
      "cell_type": "code",
      "source": [
        "lambda = 1.15*10^(-4)\n",
        "alpha = 2.25\n"
      ],
      "metadata": {
        "id": "-TgGfCDGiqFn"
      },
      "execution_count": 2,
      "outputs": []
    },
    {
      "cell_type": "code",
      "source": [
        "R(t=4380, lambda, alpha)"
      ],
      "metadata": {
        "colab": {
          "base_uri": "https://localhost:8080/",
          "height": 34
        },
        "id": "hlNYZM6vixUF",
        "outputId": "f98b457e-c92c-4c6e-cfe1-5e9de7180578"
      },
      "execution_count": 3,
      "outputs": [
        {
          "output_type": "display_data",
          "data": {
            "text/html": [
              "0.807557891915148"
            ],
            "text/markdown": "0.807557891915148",
            "text/latex": "0.807557891915148",
            "text/plain": [
              "[1] 0.8075579"
            ]
          },
          "metadata": {}
        }
      ]
    },
    {
      "cell_type": "markdown",
      "source": [
        "###2\n",
        "平均故障時間"
      ],
      "metadata": {
        "id": "ozTtqW8caORg"
      }
    },
    {
      "cell_type": "code",
      "source": [
        "MTTF = 1/lambda *gamma(1/alpha+1)\n",
        "MTTF"
      ],
      "metadata": {
        "colab": {
          "base_uri": "https://localhost:8080/",
          "height": 34
        },
        "id": "-cjP0trXi465",
        "outputId": "3be6b8b9-8b0b-4e58-fac0-4b187e1925c3"
      },
      "execution_count": 4,
      "outputs": [
        {
          "output_type": "display_data",
          "data": {
            "text/html": [
              "7702.00395268376"
            ],
            "text/markdown": "7702.00395268376",
            "text/latex": "7702.00395268376",
            "text/plain": [
              "[1] 7702.004"
            ]
          },
          "metadata": {}
        }
      ]
    },
    {
      "cell_type": "code",
      "source": [
        "integrate(function(x) {R(x, lambda, alpha)}, lower=0, upper=Inf)$value"
      ],
      "metadata": {
        "colab": {
          "base_uri": "https://localhost:8080/",
          "height": 34
        },
        "id": "9geNfUhvn-FD",
        "outputId": "3aa310d7-0e1e-4c7a-d0ba-d113411145bf"
      },
      "execution_count": 5,
      "outputs": [
        {
          "output_type": "display_data",
          "data": {
            "text/html": [
              "7702.00395621185"
            ],
            "text/markdown": "7702.00395621185",
            "text/latex": "7702.00395621185",
            "text/plain": [
              "[1] 7702.004"
            ]
          },
          "metadata": {}
        }
      ]
    },
    {
      "cell_type": "markdown",
      "source": [
        "### 3\n",
        "メディアン寿命\n"
      ],
      "metadata": {
        "id": "gkKrURoYaP31"
      }
    },
    {
      "cell_type": "code",
      "source": [
        "1/lambda * (log(2))^(1/alpha)"
      ],
      "metadata": {
        "colab": {
          "base_uri": "https://localhost:8080/",
          "height": 34
        },
        "id": "SSnsW0vajswo",
        "outputId": "6ace8ac5-b068-44d0-8d05-853cb604bdad"
      },
      "execution_count": 17,
      "outputs": [
        {
          "output_type": "display_data",
          "data": {
            "text/html": [
              "7388.52794253016"
            ],
            "text/markdown": "7388.52794253016",
            "text/latex": "7388.52794253016",
            "text/plain": [
              "[1] 7388.528"
            ]
          },
          "metadata": {}
        }
      ]
    },
    {
      "cell_type": "code",
      "source": [
        "uniroot(function(t){ R(t, lambda, alpha)-0.5 }, lower=0, upper=10000000)"
      ],
      "metadata": {
        "colab": {
          "base_uri": "https://localhost:8080/",
          "height": 215
        },
        "id": "y_m8tMHYaguM",
        "outputId": "d1272302-f257-4057-c778-a012def7a127"
      },
      "execution_count": 18,
      "outputs": [
        {
          "output_type": "display_data",
          "data": {
            "text/html": [
              "<dl>\n",
              "\t<dt>$root</dt>\n",
              "\t\t<dd>7388.52794466622</dd>\n",
              "\t<dt>$f.root</dt>\n",
              "\t\t<dd>-2.25440888179662e-10</dd>\n",
              "\t<dt>$iter</dt>\n",
              "\t\t<dd>16</dd>\n",
              "\t<dt>$init.it</dt>\n",
              "\t\t<dd>&lt;NA&gt;</dd>\n",
              "\t<dt>$estim.prec</dt>\n",
              "\t\t<dd>6.10351598879788e-05</dd>\n",
              "</dl>\n"
            ],
            "text/markdown": "$root\n:   7388.52794466622\n$f.root\n:   -2.25440888179662e-10\n$iter\n:   16\n$init.it\n:   &lt;NA&gt;\n$estim.prec\n:   6.10351598879788e-05\n\n\n",
            "text/latex": "\\begin{description}\n\\item[\\$root] 7388.52794466622\n\\item[\\$f.root] -2.25440888179662e-10\n\\item[\\$iter] 16\n\\item[\\$init.it] <NA>\n\\item[\\$estim.prec] 6.10351598879788e-05\n\\end{description}\n",
            "text/plain": [
              "$root\n",
              "[1] 7388.528\n",
              "\n",
              "$f.root\n",
              "[1] -2.254409e-10\n",
              "\n",
              "$iter\n",
              "[1] 16\n",
              "\n",
              "$init.it\n",
              "[1] NA\n",
              "\n",
              "$estim.prec\n",
              "[1] 6.103516e-05\n"
            ]
          },
          "metadata": {}
        }
      ]
    },
    {
      "cell_type": "markdown",
      "source": [
        "### 4\n",
        "最初の6ヶ月間（$t_1 = 4380$時間）を生き延びたバルブが，次の6ヶ月間（$t_2 = 4380$時間）を生き延びることができる確率\n"
      ],
      "metadata": {
        "id": "jttwhRrhaRP2"
      }
    },
    {
      "cell_type": "code",
      "source": [
        "t1=t2=4380\n",
        "R(t1+t2, lambda, alpha)/R(t1, lambda, alpha)"
      ],
      "metadata": {
        "colab": {
          "base_uri": "https://localhost:8080/",
          "height": 34
        },
        "id": "QGUDg_FtkiW0",
        "outputId": "90561bee-6fd6-4f4f-caf6-fd802b378a31"
      },
      "execution_count": 22,
      "outputs": [
        {
          "output_type": "display_data",
          "data": {
            "text/html": [
              "0.447989036040496"
            ],
            "text/markdown": "0.447989036040496",
            "text/latex": "0.447989036040496",
            "text/plain": [
              "[1] 0.447989"
            ]
          },
          "metadata": {}
        }
      ]
    },
    {
      "cell_type": "markdown",
      "source": [
        "### 5\n",
        "バルブが6ヶ月間（$t = 4380$時間）機能しているときの平均残存寿命（この場合，$MRL(t)$は閉形式で与えられないため，コンピュータを使って求めよ）\n"
      ],
      "metadata": {
        "id": "Q5_JCczUaUNd"
      }
    },
    {
      "cell_type": "code",
      "source": [
        "MRL = function(t, lambda, alpha){\n",
        "  1/R(t, lambda, alpha) * integrate(function(x) {R(x, lambda, alpha)}, lower=t, upper=Inf)$value\n",
        "}"
      ],
      "metadata": {
        "id": "BR4G5AU1mC_c"
      },
      "execution_count": 20,
      "outputs": []
    },
    {
      "cell_type": "code",
      "source": [
        "MRL(4380, lambda, alpha)"
      ],
      "metadata": {
        "colab": {
          "base_uri": "https://localhost:8080/",
          "height": 34
        },
        "id": "VYJrn39On55c",
        "outputId": "9039f62b-a586-477b-9855-5356d9cc374d"
      },
      "execution_count": 21,
      "outputs": [
        {
          "output_type": "display_data",
          "data": {
            "text/html": [
              "4448.91009648656"
            ],
            "text/markdown": "4448.91009648656",
            "text/latex": "4448.91009648656",
            "text/plain": [
              "[1] 4448.91"
            ]
          },
          "metadata": {}
        }
      ]
    }
  ]
}